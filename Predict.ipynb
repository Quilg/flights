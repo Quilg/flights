{
 "cells": [
  {
   "cell_type": "code",
   "execution_count": null,
   "id": "da4b226d-f5d0-4749-9ad6-c60203d1f7f3",
   "metadata": {},
   "outputs": [],
   "source": [
    "import pandas as pd\n",
    "from sklearn.model_selection import train_test_split\n",
    "from sklearn.ensemble import RandomForestClassifier\n",
    "from sklearn.metrics import accuracy_score"
   ]
  },
  {
   "cell_type": "code",
   "execution_count": null,
   "id": "937fb4f2-c5c8-49dd-9f7a-9a149814b55c",
   "metadata": {},
   "outputs": [],
   "source": [
    "flights_data = pd.read_csv('flights.csv')"
   ]
  },
  {
   "cell_type": "code",
   "execution_count": null,
   "id": "bc0873f6-8a61-4e33-ba48-0d977c1c9481",
   "metadata": {},
   "outputs": [],
   "source": [
    "flights_data.shape"
   ]
  },
  {
   "cell_type": "code",
   "execution_count": null,
   "id": "951090ea-50ee-4dd7-90fe-8fe49413b664",
   "metadata": {},
   "outputs": [],
   "source": [
    "flights_data.head()"
   ]
  },
  {
   "cell_type": "code",
   "execution_count": null,
   "id": "b69d636d",
   "metadata": {},
   "outputs": [],
   "source": [
    "features = [\"month\", \"origin\", \"dep_delay\"]\n",
    "data = flights_data[features]"
   ]
  },
  {
   "cell_type": "code",
   "execution_count": null,
   "id": "e2b31e46",
   "metadata": {},
   "outputs": [],
   "source": [
    "data = pd.get_dummies(data, columns = [\"origin\", \"month\"])"
   ]
  },
  {
   "cell_type": "code",
   "execution_count": null,
   "id": "94236ffb-6fba-4cbd-9bde-d3ed450233ba",
   "metadata": {},
   "outputs": [],
   "source": [
    "data.head()"
   ]
  },
  {
   "cell_type": "code",
   "execution_count": null,
   "id": "c901e68d-af26-4742-a434-c9d3b1e4c6c4",
   "metadata": {},
   "outputs": [],
   "source": [
    "data[\"delayed\"] = (data[\"dep_delay\"] > 0).astype(int)\n",
    "data.drop(\"dep_delay\", axis=1, inplace=True)"
   ]
  },
  {
   "cell_type": "code",
   "execution_count": null,
   "id": "1ea3115e-69d0-4550-9209-ed3f533316f2",
   "metadata": {},
   "outputs": [],
   "source": [
    "data.head()"
   ]
  },
  {
   "cell_type": "code",
   "execution_count": null,
   "id": "9de16f83-5e4a-4d8c-a119-4d47b4484b01",
   "metadata": {},
   "outputs": [],
   "source": [
    "X = data.drop(\"delayed\", axis=1)\n",
    "y = data[\"delayed\"]\n",
    "X_train, X_test, y_train, y_test = train_test_split(X, y, test_size=0.2, random_state=120)\n"
   ]
  },
  {
   "cell_type": "code",
   "execution_count": null,
   "id": "970f6d60-7e50-41c4-b5d6-4e2d64a1f361",
   "metadata": {},
   "outputs": [],
   "source": [
    "model = RandomForestClassifier(random_state=120)\n",
    "model.fit(X_train, y_train)"
   ]
  },
  {
   "cell_type": "code",
   "execution_count": null,
   "id": "f9a6a5d8-64cf-45bd-87ba-b271667d09b3",
   "metadata": {},
   "outputs": [],
   "source": [
    "prediction = model.predict(X_test)\n",
    "\n",
    "accuracy = accuracy_score(y_test, prediction)"
   ]
  },
  {
   "cell_type": "code",
   "execution_count": null,
   "id": "3ea2c157-dd93-40e5-83f1-836096d494bf",
   "metadata": {},
   "outputs": [],
   "source": [
    "print(f\"Accuracy of the model: {accuracy:.3%}\")"
   ]
  },
  {
   "cell_type": "markdown",
   "id": "341f209c-1164-4e2b-84bd-e06a49338a54",
   "metadata": {},
   "source": [
    "#Now I will try for it to show the prediction if the flight will be delayed or not from a specific airport and month"
   ]
  },
  {
   "cell_type": "code",
   "execution_count": null,
   "id": "e08a5a6f-d6bd-42fc-891e-35bc165024b7",
   "metadata": {},
   "outputs": [],
   "source": [
    "# airport = input(\"Enter the origin airport (JFK, EWR, LGA): \")\n",
    "# month = int(input(\"Enter the month (1,2,3,4...): \"))\n",
    "\n",
    "# input_data = pd.DataFrame({\n",
    "#     f'origin_{airport}': [1],\n",
    "#     f'month_{month}': [1]\n",
    "# })\n",
    "\n",
    "# prediction_delay = model.predict(input_data)\n",
    "\n",
    "# if prediction_delay[0] == 1:\n",
    "#     print(\"The flight is predicted to be delayed.\")\n",
    "# else:\n",
    "#     print(\"The flight is predicted to be on time.\")"
   ]
  },
  {
   "cell_type": "code",
   "execution_count": null,
   "id": "3ca12120-fcfc-41d8-b667-9843aa4c7cd0",
   "metadata": {},
   "outputs": [],
   "source": []
  },
  {
   "cell_type": "code",
   "execution_count": null,
   "id": "7d4b566f-5058-4073-9591-4b80397e8ad3",
   "metadata": {},
   "outputs": [],
   "source": []
  }
 ],
 "metadata": {
  "kernelspec": {
   "display_name": "Python 3 (ipykernel)",
   "language": "python",
   "name": "python3"
  },
  "language_info": {
   "codemirror_mode": {
    "name": "ipython",
    "version": 3
   },
   "file_extension": ".py",
   "mimetype": "text/x-python",
   "name": "python",
   "nbconvert_exporter": "python",
   "pygments_lexer": "ipython3",
   "version": "3.10.11"
  }
 },
 "nbformat": 4,
 "nbformat_minor": 5
}
